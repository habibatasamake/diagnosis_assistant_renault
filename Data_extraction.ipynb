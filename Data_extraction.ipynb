{
  "cells": [
    {
      "cell_type": "markdown",
      "metadata": {
        "id": "FaT7lmRqL7km"
      },
      "source": [
        "# Ordre de travail\n",
        "\n",
        "\n"
      ]
    },
    {
      "cell_type": "code",
      "execution_count": 1,
      "metadata": {
        "id": "tMFbQaNQMBqk"
      },
      "outputs": [],
      "source": [
        "import pandas as pd\n"
      ]
    },
    {
      "cell_type": "code",
      "execution_count": 3,
      "metadata": {
        "id": "_R8c93j8NVie"
      },
      "outputs": [],
      "source": [
        "df=pd.read_csv(\"C:/Users/imami/OneDrive/Bureau/projet fil rouge/Projet_Fil_Rouge_Telecom_Diag/Projet_Fil_Rouge_Telecom_Diag/Data/OT/ot_data_V6_douai_v2.csv\")"
      ]
    },
    {
      "cell_type": "code",
      "execution_count": 4,
      "metadata": {
        "colab": {
          "base_uri": "https://localhost:8080/"
        },
        "id": "vUlMWop8Nqge",
        "outputId": "8ec04cd4-f943-432d-c377-81e8115545db"
      },
      "outputs": [
        {
          "data": {
            "text/plain": [
              "Index(['Unnamed: 0', 'ACTIVITES', 'CD_ART', 'CHG_REL', 'COMMENT_OT', 'DES_EFP',\n",
              "       'DES_EQT', 'DES_FP', 'DES_LIG', 'DES_MAT', 'DES_OP', 'DES_PT',\n",
              "       'DES_SFP', 'D_REF_OT', 'DUR', 'FLAG_ACTIVITES', 'LIB_C_COUT', 'LIB_FAM',\n",
              "       'LIB_OT', 'LIB_TYP_W', 'NOM_FOUR', 'NUM_OT', 'NUM_OT_PERE',\n",
              "       'OBJ_REF_EQT', 'OBJ_REF_PT', 'REF_FOUR', 'ZONE_TRI', 'Full_Text'],\n",
              "      dtype='object')"
            ]
          },
          "execution_count": 4,
          "metadata": {},
          "output_type": "execute_result"
        }
      ],
      "source": [
        "df.columns"
      ]
    },
    {
      "cell_type": "code",
      "execution_count": 5,
      "metadata": {
        "id": "0x4Wf-FoOd1B"
      },
      "outputs": [],
      "source": [
        "#traitement colonne ACTIVITIES\n",
        "#the column always starts with \"Description de l’activité attendue et/ou explication du problème :  \", we'll remove it\n",
        "l=len('Description de l’activité attendue et/ou explication du problème :')\n",
        "df['ACTIVITES']=df['ACTIVITES'].str[l+1:]"
      ]
    },
    {
      "cell_type": "code",
      "execution_count": 6,
      "metadata": {
        "colab": {
          "base_uri": "https://localhost:8080/"
        },
        "id": "QQa7Tsn1Qd-c",
        "outputId": "7bc98bbe-a3da-415a-b4cb-f364ccfec258"
      },
      "outputs": [
        {
          "data": {
            "text/plain": [
              "2971"
            ]
          },
          "execution_count": 6,
          "metadata": {},
          "output_type": "execute_result"
        }
      ],
      "source": [
        "df[df['ACTIVITES']!='']['ACTIVITES'].count()"
      ]
    },
    {
      "cell_type": "markdown",
      "metadata": {
        "id": "kA6hd9e6RnHN"
      },
      "source": [
        "la colonne CD_ART est vide, la colonne CHG_REL est une colonne numérique reste à comprendre sa signification, on passe à la colonne COMMENT_OD"
      ]
    },
    {
      "cell_type": "code",
      "execution_count": 7,
      "metadata": {
        "id": "UlXXtZcZRmWP"
      },
      "outputs": [],
      "source": [
        "#traitement colonne COMMENT_OT\n",
        "l=len(\"Commentaire de l’ordre de travail : \")\n",
        "df['COMMENT_OT']=df['COMMENT_OT'].str[l:]\n",
        "\n"
      ]
    },
    {
      "cell_type": "markdown",
      "metadata": {
        "id": "GpE3blw4nVkU"
      },
      "source": [
        "Le code utiliser pour parser et avoir chaque symptome cause solution dans sa propre colonne respectivement"
      ]
    },
    {
      "cell_type": "code",
      "execution_count": 8,
      "metadata": {
        "colab": {
          "base_uri": "https://localhost:8080/"
        },
        "id": "DdUe-kWvRYSa",
        "outputId": "b925c7a9-c185-43de-a213-c70d1706b8e5"
      },
      "outputs": [
        {
          "name": "stdout",
          "output_type": "stream",
          "text": [
            "Symptôme:  NOMBREUX DEFAUT SERTISSAGES SUR LA TETE 2 RIVKLE    \n",
            "Cause:  SURPRESSEUR HS    \n",
            "Solution:  REPRISE DES POINTS DE DEPOSE RIVKLE    NOK   REFAIT ETALONNAGE CAPTEUR COURSE DE SERTISSAGE    NOK REM PLACEMENT DE LA TETE DE SERTISSAGE NOK   REMPLACEMENT DU SURPRESSEUR PAR L'EQUIPE DE NUIT    OK    \n",
            "Validation:  OK\n"
          ]
        }
      ],
      "source": [
        "import re\n",
        "\n",
        "# Input text\n",
        "text = \"\"\"23.01.2023 08:50:20 A______ :    . Symptôme: NOMBREUX DEFAUT SERTISSAGES SUR LA TETE 2 RIVKLE    . Cause: SURPRESSEUR HS    . Solution: REPRISE DES POINTS DE DEPOSE RIVKLE    NOK   REFAIT ETALONNAGE CAPTEUR COURSE DE SERTISSAGE    NOK REM PLACEMENT DE LA TETE DE SERTISSAGE NOK   REMPLACEMENT DU SURPRESSEUR PAR L'EQUIPE DE NUIT    OK    . Validation: OK\"\"\"\n",
        "\n",
        "# Regular expression pattern\n",
        "pattern = r\"\"\"\n",
        "    . Symptôme: (?P<symptome>.*?)    \\.     # Match \"Symptôme\" section\n",
        "    . Cause: (?P<cause>.*?)    \\.         # Match \"Cause\" section\n",
        "    . Solution: (?P<solution>.*?)    \\.   # Match \"Solution\" section\n",
        "    . Validation: (?P<validation>.*)      # Match \"Validation\" section\n",
        "\"\"\"\n",
        "\n",
        "# Compile the regex pattern with verbose flag\n",
        "regex = re.compile(pattern, re.VERBOSE)\n",
        "\n",
        "# Apply regex to find the groups\n",
        "match = regex.search(text)\n",
        "if match:\n",
        "    symptome = match.group(\"symptome\")\n",
        "    cause = match.group(\"cause\")\n",
        "    solution = match.group(\"solution\")\n",
        "    validation = match.group(\"validation\")\n",
        "\n",
        "    # Print the results\n",
        "    print(\"Symptôme:\", symptome)\n",
        "    print(\"Cause:\", cause)\n",
        "    print(\"Solution:\", solution)\n",
        "    print(\"Validation:\", validation)\n",
        "else:\n",
        "    print(\"No match found!\")"
      ]
    },
    {
      "cell_type": "code",
      "execution_count": 9,
      "metadata": {
        "id": "dUk8CrfFRVRK"
      },
      "outputs": [],
      "source": [
        "symptome_list=[]\n",
        "cause_list=[]\n",
        "solution_list=[]\n",
        "validation_list=[]\n",
        "\n",
        "for text in df['COMMENT_OT']:\n",
        "  match = regex.search(text)\n",
        "  if match:\n",
        "    symptome = match.group(\"symptome\")\n",
        "    cause = match.group(\"cause\")\n",
        "    solution = match.group(\"solution\")\n",
        "    validation = match.group(\"validation\")\n",
        "\n",
        "    #append the result\n",
        "    symptome_list.append(symptome)\n",
        "    cause_list.append(cause)\n",
        "    solution_list.append(solution)\n",
        "    validation_list.append(validation)\n",
        "\n",
        "ot_data={\n",
        "    'symptome':symptome_list,\n",
        "    'cause':cause_list,\n",
        "    'solution':solution_list,\n",
        "    'validation': validation\n",
        "}\n",
        "df_ot = pd.DataFrame(ot_data)"
      ]
    },
    {
      "cell_type": "code",
      "execution_count": 10,
      "metadata": {
        "colab": {
          "base_uri": "https://localhost:8080/",
          "height": 209
        },
        "id": "YJXP2kWNGVNr",
        "outputId": "ae7515f2-2c6a-4326-b79b-658bac00f13f"
      },
      "outputs": [
        {
          "data": {
            "text/plain": [
              "symptome      2827\n",
              "cause         2827\n",
              "solution      2827\n",
              "validation    2827\n",
              "dtype: int64"
            ]
          },
          "execution_count": 10,
          "metadata": {},
          "output_type": "execute_result"
        }
      ],
      "source": [
        "df_ot.count()"
      ]
    },
    {
      "cell_type": "code",
      "execution_count": 11,
      "metadata": {
        "colab": {
          "base_uri": "https://localhost:8080/",
          "height": 293
        },
        "id": "bU9I-lcRGb0t",
        "outputId": "76734cbc-647d-4acb-a961-85a1f3ecd1c3"
      },
      "outputs": [
        {
          "data": {
            "text/html": [
              "<div>\n",
              "<style scoped>\n",
              "    .dataframe tbody tr th:only-of-type {\n",
              "        vertical-align: middle;\n",
              "    }\n",
              "\n",
              "    .dataframe tbody tr th {\n",
              "        vertical-align: top;\n",
              "    }\n",
              "\n",
              "    .dataframe thead th {\n",
              "        text-align: right;\n",
              "    }\n",
              "</style>\n",
              "<table border=\"1\" class=\"dataframe\">\n",
              "  <thead>\n",
              "    <tr style=\"text-align: right;\">\n",
              "      <th></th>\n",
              "      <th>symptome</th>\n",
              "      <th>cause</th>\n",
              "      <th>solution</th>\n",
              "      <th>validation</th>\n",
              "    </tr>\n",
              "  </thead>\n",
              "  <tbody>\n",
              "    <tr>\n",
              "      <th>0</th>\n",
              "      <td>ROBOT EN POSITION DE SOUDURE, DEFAUT ROBOT EN...</td>\n",
              "      <td>PRESENCE DE LIQUIDE DE REFROIDISSEMENT ENTRE ...</td>\n",
              "      <td>REMPLACEMENT DU FAISCEAU PLUS PASSAGE DU FIL ...</td>\n",
              "      <td>NON ANALYSE GATM</td>\n",
              "    </tr>\n",
              "    <tr>\n",
              "      <th>1</th>\n",
              "      <td>DEFAUT DE QUALITE DE SOUDURE</td>\n",
              "      <td>DEBIT EAU INSUFFISANT 5.15L</td>\n",
              "      <td>OT NUIT LE 11/03 POUR VERIF BOUCHON D'EAU NOK...</td>\n",
              "      <td>NON ANALYSE GATM</td>\n",
              "    </tr>\n",
              "    <tr>\n",
              "      <th>2</th>\n",
              "      <td>DEFAUT COLLE</td>\n",
              "      <td>AIR DANS LE CIRCUIT</td>\n",
              "      <td>PURGE POMPE 1 ET CIRCUIT NETTOYAGE BUSE ESSAI...</td>\n",
              "      <td>NON ANALYSE GATM</td>\n",
              "    </tr>\n",
              "    <tr>\n",
              "      <th>3</th>\n",
              "      <td>ARRET D'URGENCE FS3</td>\n",
              "      <td>PAS DE CONNEXION AVEC AUTOMATE</td>\n",
              "      <td>ECHANGE CARTE PMCIA  ECHANGE CARTE UC  ECHA...</td>\n",
              "      <td>NON ANALYSE GATM</td>\n",
              "    </tr>\n",
              "    <tr>\n",
              "      <th>4</th>\n",
              "      <td>DEFAUT L'AXE 2 N'ATTEINT PAS SON ZERO (E8.5 1)</td>\n",
              "      <td>CASSE LORS DE L'AUTRE EQUIPE, OUTIL COINCE DAN...</td>\n",
              "      <td>ATTENTE PIECE COMMANDER LE VENDREDI 16/06/2023</td>\n",
              "      <td>NON ANALYSE GATM</td>\n",
              "    </tr>\n",
              "  </tbody>\n",
              "</table>\n",
              "</div>"
            ],
            "text/plain": [
              "                                            symptome  \\\n",
              "0   ROBOT EN POSITION DE SOUDURE, DEFAUT ROBOT EN...   \n",
              "1                     DEFAUT DE QUALITE DE SOUDURE     \n",
              "2                                      DEFAUT COLLE    \n",
              "3                            ARRET D'URGENCE FS3       \n",
              "4    DEFAUT L'AXE 2 N'ATTEINT PAS SON ZERO (E8.5 1)    \n",
              "\n",
              "                                               cause  \\\n",
              "0   PRESENCE DE LIQUIDE DE REFROIDISSEMENT ENTRE ...   \n",
              "1                      DEBIT EAU INSUFFISANT 5.15L     \n",
              "2                               AIR DANS LE CIRCUIT    \n",
              "3                 PAS DE CONNEXION AVEC AUTOMATE       \n",
              "4  CASSE LORS DE L'AUTRE EQUIPE, OUTIL COINCE DAN...   \n",
              "\n",
              "                                            solution        validation  \n",
              "0   REMPLACEMENT DU FAISCEAU PLUS PASSAGE DU FIL ...  NON ANALYSE GATM  \n",
              "1   OT NUIT LE 11/03 POUR VERIF BOUCHON D'EAU NOK...  NON ANALYSE GATM  \n",
              "2   PURGE POMPE 1 ET CIRCUIT NETTOYAGE BUSE ESSAI...  NON ANALYSE GATM  \n",
              "3     ECHANGE CARTE PMCIA  ECHANGE CARTE UC  ECHA...  NON ANALYSE GATM  \n",
              "4    ATTENTE PIECE COMMANDER LE VENDREDI 16/06/2023   NON ANALYSE GATM  "
            ]
          },
          "execution_count": 11,
          "metadata": {},
          "output_type": "execute_result"
        }
      ],
      "source": [
        "df_ot.head()"
      ]
    },
    {
      "cell_type": "markdown",
      "metadata": {
        "id": "IryR7laSIpwf"
      },
      "source": [
        "# Document pdf doc-R-30iB"
      ]
    },
    {
      "cell_type": "code",
      "execution_count": 12,
      "metadata": {
        "colab": {
          "base_uri": "https://localhost:8080/"
        },
        "id": "racpKgwOLui7",
        "outputId": "feb3fb15-6d38-4931-d04c-973a31524082"
      },
      "outputs": [
        {
          "name": "stdout",
          "output_type": "stream",
          "text": [
            "Requirement already satisfied: PyPDF2 in c:\\users\\imami\\appdata\\local\\packages\\pythonsoftwarefoundation.python.3.9_qbz5n2kfra8p0\\localcache\\local-packages\\python39\\site-packages (3.0.1)\n",
            "Requirement already satisfied: PyMuPDF in c:\\users\\imami\\appdata\\local\\packages\\pythonsoftwarefoundation.python.3.9_qbz5n2kfra8p0\\localcache\\local-packages\\python39\\site-packages (1.25.2)\n",
            "Requirement already satisfied: pdfplumber in c:\\users\\imami\\appdata\\local\\packages\\pythonsoftwarefoundation.python.3.9_qbz5n2kfra8p0\\localcache\\local-packages\\python39\\site-packages (0.11.5)\n",
            "Requirement already satisfied: typing_extensions>=3.10.0.0 in c:\\users\\imami\\appdata\\local\\packages\\pythonsoftwarefoundation.python.3.9_qbz5n2kfra8p0\\localcache\\local-packages\\python39\\site-packages (from PyPDF2) (4.1.1)\n",
            "Requirement already satisfied: pypdfium2>=4.18.0 in c:\\users\\imami\\appdata\\local\\packages\\pythonsoftwarefoundation.python.3.9_qbz5n2kfra8p0\\localcache\\local-packages\\python39\\site-packages (from pdfplumber) (4.30.1)\n",
            "Requirement already satisfied: Pillow>=9.1 in c:\\users\\imami\\appdata\\local\\packages\\pythonsoftwarefoundation.python.3.9_qbz5n2kfra8p0\\localcache\\local-packages\\python39\\site-packages (from pdfplumber) (11.1.0)\n",
            "Requirement already satisfied: pdfminer.six==20231228 in c:\\users\\imami\\appdata\\local\\packages\\pythonsoftwarefoundation.python.3.9_qbz5n2kfra8p0\\localcache\\local-packages\\python39\\site-packages (from pdfplumber) (20231228)\n",
            "Requirement already satisfied: charset-normalizer>=2.0.0 in c:\\users\\imami\\appdata\\local\\packages\\pythonsoftwarefoundation.python.3.9_qbz5n2kfra8p0\\localcache\\local-packages\\python39\\site-packages (from pdfminer.six==20231228->pdfplumber) (2.0.10)\n",
            "Requirement already satisfied: cryptography>=36.0.0 in c:\\users\\imami\\appdata\\local\\packages\\pythonsoftwarefoundation.python.3.9_qbz5n2kfra8p0\\localcache\\local-packages\\python39\\site-packages (from pdfminer.six==20231228->pdfplumber) (44.0.0)\n",
            "Requirement already satisfied: cffi>=1.12 in c:\\users\\imami\\appdata\\local\\packages\\pythonsoftwarefoundation.python.3.9_qbz5n2kfra8p0\\localcache\\local-packages\\python39\\site-packages (from cryptography>=36.0.0->pdfminer.six==20231228->pdfplumber) (1.15.0)\n",
            "Requirement already satisfied: pycparser in c:\\users\\imami\\appdata\\local\\packages\\pythonsoftwarefoundation.python.3.9_qbz5n2kfra8p0\\localcache\\local-packages\\python39\\site-packages (from cffi>=1.12->cryptography>=36.0.0->pdfminer.six==20231228->pdfplumber) (2.21)\n",
            "Note: you may need to restart the kernel to use updated packages.\n"
          ]
        },
        {
          "name": "stderr",
          "output_type": "stream",
          "text": [
            "WARNING: Ignoring invalid distribution -umpy (c:\\users\\imami\\appdata\\local\\packages\\pythonsoftwarefoundation.python.3.9_qbz5n2kfra8p0\\localcache\\local-packages\\python39\\site-packages)\n",
            "WARNING: Ignoring invalid distribution -umpy (c:\\users\\imami\\appdata\\local\\packages\\pythonsoftwarefoundation.python.3.9_qbz5n2kfra8p0\\localcache\\local-packages\\python39\\site-packages)\n",
            "WARNING: Ignoring invalid distribution -umpy (c:\\users\\imami\\appdata\\local\\packages\\pythonsoftwarefoundation.python.3.9_qbz5n2kfra8p0\\localcache\\local-packages\\python39\\site-packages)\n",
            "WARNING: Ignoring invalid distribution -umpy (c:\\users\\imami\\appdata\\local\\packages\\pythonsoftwarefoundation.python.3.9_qbz5n2kfra8p0\\localcache\\local-packages\\python39\\site-packages)\n",
            "WARNING: Ignoring invalid distribution -umpy (c:\\users\\imami\\appdata\\local\\packages\\pythonsoftwarefoundation.python.3.9_qbz5n2kfra8p0\\localcache\\local-packages\\python39\\site-packages)\n",
            "WARNING: Ignoring invalid distribution -umpy (c:\\users\\imami\\appdata\\local\\packages\\pythonsoftwarefoundation.python.3.9_qbz5n2kfra8p0\\localcache\\local-packages\\python39\\site-packages)\n",
            "WARNING: You are using pip version 21.3.1; however, version 24.3.1 is available.\n",
            "You should consider upgrading via the 'C:\\Users\\imami\\AppData\\Local\\Microsoft\\WindowsApps\\PythonSoftwareFoundation.Python.3.9_qbz5n2kfra8p0\\python.exe -m pip install --upgrade pip' command.\n"
          ]
        }
      ],
      "source": [
        "%pip install PyPDF2 PyMuPDF pdfplumber"
      ]
    },
    {
      "cell_type": "code",
      "execution_count": 13,
      "metadata": {
        "id": "7XRFzaYNLomL"
      },
      "outputs": [],
      "source": [
        "import fitz  # PyMuPDF\n",
        "import pdfplumber\n",
        "from PyPDF2 import PdfWriter, PdfReader"
      ]
    },
    {
      "cell_type": "code",
      "execution_count": 14,
      "metadata": {
        "colab": {
          "base_uri": "https://localhost:8080/"
        },
        "id": "2VNBzTY3I2Nu",
        "outputId": "8a8b3b0e-286d-4d57-adae-85ed482c1799"
      },
      "outputs": [
        {
          "name": "stdout",
          "output_type": "stream",
          "text": [
            "3.1 A\n",
            "3.1.1 ACAL Alarm Code\n",
            "3.1.1.1 ACAL-000 Fail to run DETECT Motn\n",
            "Cause: TheAccuCal2Motionfailedtorun. TheAccuCal2motioncannotbestarted.\n",
            "Remedy: Clear all the errors before executing AccuCal2.\n",
            "3.1.1.2 ACAL-001 Robot is not ready.\n",
            "Cause: Therobotisnotready. Thesystemcannotissuemotionbecauseitisinanerrorstate.\n",
            "Remedy: Clear all faults, then retry the operation.\n",
            "3.1.1.3 ACAL-002 Fail to fit circle.\n",
            "Cause: AccuCal2cannotconvergewithinthesetthreshold.\n",
            "Remedy: Perform the following:\n",
            "• Increase the number of iterations allowed.\n",
            "• Increase the convergence threshold setting.\n",
            "• Make sure the TCP has not been changed.\n",
            "3.1.1.4 ACAL-003 Contact before search.\n",
            "Cause: Therobotisincontactwiththepartbeforestartingasearchmotion.\n",
            "Remedy: Reteach the starting position.\n",
            "3.1.1.5 ACAL-004 No contact detected.\n",
            "Cause: NocontactwasmadeduringtheAccuCal2motion.\n",
            "Remedy: Makesurethesensorandsoftwareareinstalledcorrectly.\n",
            "3.1.1.6 ACAL-005 Undefined program name.\n",
            "Cause: The AccuCal2 program name was not defined.\n",
            "Remedy: SelectanAccuCal2teachpendantprogrambeforepressingtheEXECkey.\n",
            "3.1.1.7 ACAL-006 TPE operation error.\n",
            "Cause: Thisisaninternalteachpendanteditorprogramerror.\n",
            "Remedy: Aborttheprogramandrunagain. Ifthisdoesn'tresolvetheproblem,cyclepowerandtry\n",
            "again. Ifthisdoesn'tresolvetheproblem, reinstallthecontrollersoftware. RefertotheSoftware\n",
            "InstallationManualforinformationoninstallingsoftware.\n",
            "3.1.1.8 ACAL-007 Calibration internal error.\n",
            "Cause: This is an AccuCal2 internal error.\n",
            "Remedy: Turnoffthecontroller,andturnitonagaintorecover. Iftheproblempersistes,reinstallthe\n",
            "controllersoftware. RefertotheSoftwareInstallationManualformoreinformation.\n",
            "3.1.1.9 ACAL-008 File open error.\n",
            "Cause: The output file cannot be opened.\n",
            "Remedy: Checkthepath,andfilenametobesuretheyarecorrect.\n",
            "3.1.1.10 ACAL-009 No matching Start inst.\n",
            "Cause: YouaretryingtoexecuteaCALIBENDinstructionwithoutamatchingCALIBSTART\n",
            "instruction.\n",
            "Remedy: AddaCALIBSTARTinstructionbeforetheCALIBEND.\n"
          ]
        }
      ],
      "source": [
        "#parse the error codes in the pdf and put it as plain text for preprocessing\n",
        "pages_to_keep=[i for i in range(48,50)]\n",
        "\n",
        "with pdfplumber.open(\"C:/Users/imami/OneDrive/Bureau/projet fil rouge/Projet_Fil_Rouge_Telecom_Diag/Projet_Fil_Rouge_Telecom_Diag/Data/Doc_Fournisseur/doc-R-30iB.pdf\") as pdf:\n",
        "        writer = PdfWriter()\n",
        "        for page_num in pages_to_keep:\n",
        "            # Get the page\n",
        "            page = pdf.pages[page_num - 1]  # Pages are 0-indexed in pdfplumber\n",
        "\n",
        "            # Extract text and remove header/footer\n",
        "            # Assuming the first 10% and last 10% of the page are headers/footers\n",
        "            cropped_text = page.within_bbox((0, page.height * 0.05, page.width, page.height * 0.95)).extract_text()\n",
        "            print(cropped_text)"
      ]
    },
    {
      "cell_type": "code",
      "execution_count": 15,
      "metadata": {
        "id": "NbshVybGOw2y"
      },
      "outputs": [],
      "source": [
        "raw_text=''\n",
        "pages_to_keep=[i for i in range(48,1976)]\n",
        "with pdfplumber.open(\"C:/Users/imami/OneDrive/Bureau/projet fil rouge/Projet_Fil_Rouge_Telecom_Diag/Projet_Fil_Rouge_Telecom_Diag/Data/Doc_Fournisseur/doc-R-30iB.pdf\") as pdf:\n",
        "        writer = PdfWriter()\n",
        "        for page_num in pages_to_keep:\n",
        "            # Get the page\n",
        "            page = pdf.pages[page_num - 1]  # Pages are 0-indexed in pdfplumber\n",
        "\n",
        "            # Extract text and remove header/footer\n",
        "            # Assuming the first 10% and last 10% of the page are headers/footers\n",
        "            cropped_text = page.within_bbox((0, page.height * 0.05, page.width, page.height * 0.95)).extract_text()\n",
        "            raw_text=raw_text+cropped_text\n"
      ]
    },
    {
      "cell_type": "code",
      "execution_count": 16,
      "metadata": {
        "id": "lYQFT3HURNJF"
      },
      "outputs": [],
      "source": [
        "f = open(\"C:/Users/imami/OneDrive/Bureau/projet fil rouge/Projet_Fil_Rouge_Telecom_Diag/Projet_Fil_Rouge_Telecom_Diag/Data/Doc_Fournisseur/raw_text.txt\", \"a\",  encoding=\"utf-8\")\n",
        "f.write(raw_text)\n",
        "f.close()"
      ]
    },
    {
      "cell_type": "code",
      "execution_count": 17,
      "metadata": {
        "id": "v2gJ3kLyR2i4"
      },
      "outputs": [],
      "source": [
        "\n",
        "symptome_list=[]\n",
        "cause_list=[]\n",
        "solution_list=[]\n",
        "\n",
        "pattern = r\"(?P<title>\\d+\\.\\d+\\.\\d+\\.\\d+ [^\\n]+)\\s*Cause:\\s*(?P<cause>[^R]+)\\s*Remedy:\\s*(?P<remedy>[^\\n]+(?:\\n\\s*•[^\\n]+)*)\"\n",
        "\n",
        "matches = re.finditer(pattern, raw_text)\n",
        "\n",
        "for match in matches:\n",
        "    symptome_list.append(match.group(\"title\"))\n",
        "    cause_list.append(match.group(\"cause\").strip())\n",
        "    solution_list.append(match.group(\"remedy\").strip())\n",
        "\n",
        "doc_data={\n",
        "    'symptome':symptome_list,\n",
        "    'cause':cause_list,\n",
        "    'solution':solution_list\n",
        "}\n",
        "df_doc = pd.DataFrame(doc_data)"
      ]
    },
    {
      "cell_type": "code",
      "execution_count": 18,
      "metadata": {
        "colab": {
          "base_uri": "https://localhost:8080/",
          "height": 206
        },
        "id": "sqTXu6lFcC6Y",
        "outputId": "91fdc83e-a862-41a4-e632-32b44fef98bf"
      },
      "outputs": [
        {
          "data": {
            "text/html": [
              "<div>\n",
              "<style scoped>\n",
              "    .dataframe tbody tr th:only-of-type {\n",
              "        vertical-align: middle;\n",
              "    }\n",
              "\n",
              "    .dataframe tbody tr th {\n",
              "        vertical-align: top;\n",
              "    }\n",
              "\n",
              "    .dataframe thead th {\n",
              "        text-align: right;\n",
              "    }\n",
              "</style>\n",
              "<table border=\"1\" class=\"dataframe\">\n",
              "  <thead>\n",
              "    <tr style=\"text-align: right;\">\n",
              "      <th></th>\n",
              "      <th>symptome</th>\n",
              "      <th>cause</th>\n",
              "      <th>solution</th>\n",
              "    </tr>\n",
              "  </thead>\n",
              "  <tbody>\n",
              "    <tr>\n",
              "      <th>0</th>\n",
              "      <td>3.1.1.1 ACAL-000 Fail to run DETECT Motn</td>\n",
              "      <td>TheAccuCal2Motionfailedtorun. TheAccuCal2motio...</td>\n",
              "      <td>Clear all the errors before executing AccuCal2.</td>\n",
              "    </tr>\n",
              "    <tr>\n",
              "      <th>1</th>\n",
              "      <td>3.1.1.2 ACAL-001 Robot is not ready.</td>\n",
              "      <td>Therobotisnotready. Thesystemcannotissuemotion...</td>\n",
              "      <td>Clear all faults, then retry the operation.</td>\n",
              "    </tr>\n",
              "    <tr>\n",
              "      <th>2</th>\n",
              "      <td>3.1.1.3 ACAL-002 Fail to fit circle.</td>\n",
              "      <td>AccuCal2cannotconvergewithinthesetthreshold.</td>\n",
              "      <td>Perform the following:\\n• Increase the number ...</td>\n",
              "    </tr>\n",
              "    <tr>\n",
              "      <th>3</th>\n",
              "      <td>3.1.1.4 ACAL-003 Contact before search.</td>\n",
              "      <td>Therobotisincontactwiththepartbeforestartingas...</td>\n",
              "      <td>Reteach the starting position.</td>\n",
              "    </tr>\n",
              "    <tr>\n",
              "      <th>4</th>\n",
              "      <td>3.1.1.5 ACAL-004 No contact detected.</td>\n",
              "      <td>NocontactwasmadeduringtheAccuCal2motion.</td>\n",
              "      <td>Makesurethesensorandsoftwareareinstalledcorrec...</td>\n",
              "    </tr>\n",
              "  </tbody>\n",
              "</table>\n",
              "</div>"
            ],
            "text/plain": [
              "                                   symptome  \\\n",
              "0  3.1.1.1 ACAL-000 Fail to run DETECT Motn   \n",
              "1      3.1.1.2 ACAL-001 Robot is not ready.   \n",
              "2      3.1.1.3 ACAL-002 Fail to fit circle.   \n",
              "3   3.1.1.4 ACAL-003 Contact before search.   \n",
              "4     3.1.1.5 ACAL-004 No contact detected.   \n",
              "\n",
              "                                               cause  \\\n",
              "0  TheAccuCal2Motionfailedtorun. TheAccuCal2motio...   \n",
              "1  Therobotisnotready. Thesystemcannotissuemotion...   \n",
              "2       AccuCal2cannotconvergewithinthesetthreshold.   \n",
              "3  Therobotisincontactwiththepartbeforestartingas...   \n",
              "4           NocontactwasmadeduringtheAccuCal2motion.   \n",
              "\n",
              "                                            solution  \n",
              "0    Clear all the errors before executing AccuCal2.  \n",
              "1        Clear all faults, then retry the operation.  \n",
              "2  Perform the following:\\n• Increase the number ...  \n",
              "3                     Reteach the starting position.  \n",
              "4  Makesurethesensorandsoftwareareinstalledcorrec...  "
            ]
          },
          "execution_count": 18,
          "metadata": {},
          "output_type": "execute_result"
        }
      ],
      "source": [
        "df_doc.head()"
      ]
    },
    {
      "cell_type": "code",
      "execution_count": 19,
      "metadata": {
        "colab": {
          "base_uri": "https://localhost:8080/",
          "height": 178
        },
        "id": "ojaTthuScTuO",
        "outputId": "9f5ddfdc-edc5-47ec-adff-afb9170256df"
      },
      "outputs": [
        {
          "data": {
            "text/plain": [
              "symptome    7748\n",
              "cause       7748\n",
              "solution    7748\n",
              "dtype: int64"
            ]
          },
          "execution_count": 19,
          "metadata": {},
          "output_type": "execute_result"
        }
      ],
      "source": [
        "df_doc.count()"
      ]
    },
    {
      "cell_type": "markdown",
      "metadata": {},
      "source": [
        "Now we are going to combine the two dataframes (will drop the validation column from the first dataframe) "
      ]
    },
    {
      "cell_type": "code",
      "execution_count": 20,
      "metadata": {},
      "outputs": [],
      "source": [
        "df_ot_v1 = df_ot.drop('validation', axis=1)\n",
        "df_total=pd.concat([df_ot_v1,df_doc],axis=0)"
      ]
    },
    {
      "cell_type": "code",
      "execution_count": 21,
      "metadata": {},
      "outputs": [
        {
          "data": {
            "text/html": [
              "<div>\n",
              "<style scoped>\n",
              "    .dataframe tbody tr th:only-of-type {\n",
              "        vertical-align: middle;\n",
              "    }\n",
              "\n",
              "    .dataframe tbody tr th {\n",
              "        vertical-align: top;\n",
              "    }\n",
              "\n",
              "    .dataframe thead th {\n",
              "        text-align: right;\n",
              "    }\n",
              "</style>\n",
              "<table border=\"1\" class=\"dataframe\">\n",
              "  <thead>\n",
              "    <tr style=\"text-align: right;\">\n",
              "      <th></th>\n",
              "      <th>symptome</th>\n",
              "      <th>cause</th>\n",
              "      <th>solution</th>\n",
              "    </tr>\n",
              "  </thead>\n",
              "  <tbody>\n",
              "    <tr>\n",
              "      <th>0</th>\n",
              "      <td>ROBOT EN POSITION DE SOUDURE, DEFAUT ROBOT EN...</td>\n",
              "      <td>PRESENCE DE LIQUIDE DE REFROIDISSEMENT ENTRE ...</td>\n",
              "      <td>REMPLACEMENT DU FAISCEAU PLUS PASSAGE DU FIL ...</td>\n",
              "    </tr>\n",
              "    <tr>\n",
              "      <th>1</th>\n",
              "      <td>DEFAUT DE QUALITE DE SOUDURE</td>\n",
              "      <td>DEBIT EAU INSUFFISANT 5.15L</td>\n",
              "      <td>OT NUIT LE 11/03 POUR VERIF BOUCHON D'EAU NOK...</td>\n",
              "    </tr>\n",
              "    <tr>\n",
              "      <th>2</th>\n",
              "      <td>DEFAUT COLLE</td>\n",
              "      <td>AIR DANS LE CIRCUIT</td>\n",
              "      <td>PURGE POMPE 1 ET CIRCUIT NETTOYAGE BUSE ESSAI...</td>\n",
              "    </tr>\n",
              "    <tr>\n",
              "      <th>3</th>\n",
              "      <td>ARRET D'URGENCE FS3</td>\n",
              "      <td>PAS DE CONNEXION AVEC AUTOMATE</td>\n",
              "      <td>ECHANGE CARTE PMCIA  ECHANGE CARTE UC  ECHA...</td>\n",
              "    </tr>\n",
              "    <tr>\n",
              "      <th>4</th>\n",
              "      <td>DEFAUT L'AXE 2 N'ATTEINT PAS SON ZERO (E8.5 1)</td>\n",
              "      <td>CASSE LORS DE L'AUTRE EQUIPE, OUTIL COINCE DAN...</td>\n",
              "      <td>ATTENTE PIECE COMMANDER LE VENDREDI 16/06/2023</td>\n",
              "    </tr>\n",
              "  </tbody>\n",
              "</table>\n",
              "</div>"
            ],
            "text/plain": [
              "                                            symptome  \\\n",
              "0   ROBOT EN POSITION DE SOUDURE, DEFAUT ROBOT EN...   \n",
              "1                     DEFAUT DE QUALITE DE SOUDURE     \n",
              "2                                      DEFAUT COLLE    \n",
              "3                            ARRET D'URGENCE FS3       \n",
              "4    DEFAUT L'AXE 2 N'ATTEINT PAS SON ZERO (E8.5 1)    \n",
              "\n",
              "                                               cause  \\\n",
              "0   PRESENCE DE LIQUIDE DE REFROIDISSEMENT ENTRE ...   \n",
              "1                      DEBIT EAU INSUFFISANT 5.15L     \n",
              "2                               AIR DANS LE CIRCUIT    \n",
              "3                 PAS DE CONNEXION AVEC AUTOMATE       \n",
              "4  CASSE LORS DE L'AUTRE EQUIPE, OUTIL COINCE DAN...   \n",
              "\n",
              "                                            solution  \n",
              "0   REMPLACEMENT DU FAISCEAU PLUS PASSAGE DU FIL ...  \n",
              "1   OT NUIT LE 11/03 POUR VERIF BOUCHON D'EAU NOK...  \n",
              "2   PURGE POMPE 1 ET CIRCUIT NETTOYAGE BUSE ESSAI...  \n",
              "3     ECHANGE CARTE PMCIA  ECHANGE CARTE UC  ECHA...  \n",
              "4    ATTENTE PIECE COMMANDER LE VENDREDI 16/06/2023   "
            ]
          },
          "execution_count": 21,
          "metadata": {},
          "output_type": "execute_result"
        }
      ],
      "source": [
        "df_total.head()"
      ]
    },
    {
      "cell_type": "code",
      "execution_count": 22,
      "metadata": {},
      "outputs": [
        {
          "data": {
            "text/plain": [
              "symptome    10575\n",
              "cause       10575\n",
              "solution    10575\n",
              "dtype: int64"
            ]
          },
          "execution_count": 22,
          "metadata": {},
          "output_type": "execute_result"
        }
      ],
      "source": [
        "df_total.count()"
      ]
    },
    {
      "cell_type": "markdown",
      "metadata": {},
      "source": [
        "# Generate a knowledge graph\n"
      ]
    },
    {
      "cell_type": "markdown",
      "metadata": {},
      "source": [
        "## Problématique\n",
        "\n",
        "Le fait que notre dataset de triplets `(symptôme, cause, solution)` soit généré à partir du **parsing de documents fournisseurs** et des **ordres de travail** entraîne un problème :  \n",
        "\n",
        "- Les noeuds du graphe sont **uniques** et isolés.  \n",
        "- En conséquence, le graphe de connaissance que nous construirons sera un **graphe sparse** avec **peu d’interconnexions** entre les entités.  \n",
        "\n",
        "---\n",
        "\n",
        "## Solutions pour Remédier à la Sparsité\n",
        "\n",
        "1. **Utiliser des mesures de similarité sémantique** :  \n",
        "   - Identifier et combiner les noeuds qui présentent un certain **overlap** dans leurs significations ou contenus.\n",
        "   - Par exemple :  \n",
        "     - Noeuds \"Connexion lente\" et \"Internet lent\" peuvent être fusionnés en un noeud commun \"Problème de réseau\".\n",
        "\n",
        "2. **Appliquer un modèle de clustering** :  \n",
        "   - Grouper les noeuds en **clusters** pour rassembler des entités similaires.\n",
        "   - Par exemple :  \n",
        "     - Problèmes \"Connexion instable\" et \"Wi-Fi intermittent\" peuvent être regroupés sous un cluster de type \"Problèmes réseau\".\n",
        "\n",
        "3. **Utiliser des algorithmes de détection de communautés** :  \n",
        "   - Identifier les **relations implicites** ou **groupes d'entités fortement connectées** dans le graphe.  \n",
        "---\n",
        "\n",
        "Ces approches permettront d’enrichir et de densifier le graphe, le rendant **moins sparse** et **plus interconnecté**, facilitant ainsi les analyses et les requêtes.  "
      ]
    },
    {
      "cell_type": "code",
      "execution_count": 2,
      "metadata": {},
      "outputs": [
        {
          "ename": "ModuleNotFoundError",
          "evalue": "No module named 'neo4j'",
          "output_type": "error",
          "traceback": [
            "\u001b[1;31m---------------------------------------------------------------------------\u001b[0m",
            "\u001b[1;31mModuleNotFoundError\u001b[0m                       Traceback (most recent call last)",
            "Input \u001b[1;32mIn [2]\u001b[0m, in \u001b[0;36m<module>\u001b[1;34m\u001b[0m\n\u001b[1;32m----> 1\u001b[0m \u001b[38;5;28;01mfrom\u001b[39;00m\u001b[38;5;250m \u001b[39m\u001b[38;5;21;01mneo4j\u001b[39;00m\u001b[38;5;250m \u001b[39m\u001b[38;5;28;01mimport\u001b[39;00m GraphDatabase\n\u001b[0;32m      2\u001b[0m uri \u001b[38;5;241m=\u001b[39m \u001b[38;5;124m\"\u001b[39m\u001b[38;5;124mbolt://localhost:7687\u001b[39m\u001b[38;5;124m\"\u001b[39m\n",
            "\u001b[1;31mModuleNotFoundError\u001b[0m: No module named 'neo4j'"
          ]
        }
      ],
      "source": [
        "from neo4j import GraphDatabase\n",
        "uri = \"bolt://localhost:7687\"\n"
      ]
    }
  ],
  "metadata": {
    "colab": {
      "provenance": []
    },
    "kernelspec": {
      "display_name": "Python 3",
      "name": "python3"
    },
    "language_info": {
      "codemirror_mode": {
        "name": "ipython",
        "version": 3
      },
      "file_extension": ".py",
      "mimetype": "text/x-python",
      "name": "python",
      "nbconvert_exporter": "python",
      "pygments_lexer": "ipython3",
      "version": "3.9.13"
    }
  },
  "nbformat": 4,
  "nbformat_minor": 0
}
